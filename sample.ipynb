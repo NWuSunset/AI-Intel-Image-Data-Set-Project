{
 "cells": [
  {
   "metadata": {},
   "cell_type": "markdown",
   "source": [
    "# This is a sample Jupyter Notebook\n",
    "\n",
    "Below is an example of a code cell. \n",
    "Put your cursor into the cell and press Shift+Enter to execute it and select the next one, or click 'Run Cell' button.\n",
    "\n",
    "Press Double Shift to search everywhere for classes, files, tool windows, actions, and settings.\n",
    "\n",
    "To learn more about Jupyter Notebooks in PyCharm, see [help](https://www.jetbrains.com/help/pycharm/ipython-notebook-support.html).\n",
    "For an overview of PyCharm, go to Help -> Learn IDE features or refer to [our documentation](https://www.jetbrains.com/help/pycharm/getting-started.html)."
   ],
   "id": "8a77807f92f26ee"
  },
  {
   "metadata": {
    "ExecuteTime": {
     "end_time": "2025-05-16T21:56:40.839835Z",
     "start_time": "2025-05-16T21:56:40.826256Z"
    }
   },
   "cell_type": "code",
   "source": [
    "import matplotlib.pyplot as plt\n",
    "import numpy as np\n",
    "import PIL\n",
    "import tensorflow as tf\n",
    "import keras as kr\n",
    "\n",
    "from keras import layers\n",
    "from keras import Sequential"
   ],
   "id": "fbc121e30a2defb3",
   "outputs": [],
   "execution_count": 5
  },
  {
   "metadata": {
    "ExecuteTime": {
     "end_time": "2025-05-16T22:30:20.125218Z",
     "start_time": "2025-05-16T22:30:19.720075Z"
    }
   },
   "cell_type": "code",
   "source": [
    "import pathlib\n",
    "#setting up data.\n",
    "data_directory = pathlib.Path(\"Intel_Image_Classification\")\n",
    "\n",
    "# Verify the directory exists\n",
    "if not data_directory.exists():\n",
    "    raise Exception(\"Directory not found! Please check the path.\")\n",
    "\n",
    "train_directory =pathlib.Path(\"Intel_Image_Classification/seg_train/seg_train\")\n",
    "print(train_directory)\n",
    "\n",
    "image_count = len(list(train_directory.glob('*/*.jpg')))\n",
    "print(image_count)\n",
    "\n"
   ],
   "id": "d4a552aed192ec7b",
   "outputs": [
    {
     "name": "stdout",
     "output_type": "stream",
     "text": [
      "Intel_Image_Classification\\seg_train\\seg_train\n",
      "14034\n"
     ]
    }
   ],
   "execution_count": 24
  }
 ],
 "metadata": {
  "kernelspec": {
   "display_name": "Python [conda env:base] *",
   "language": "python",
   "name": "conda-base-py"
  },
  "language_info": {
   "codemirror_mode": {
    "name": "ipython",
    "version": 2
   },
   "file_extension": ".py",
   "mimetype": "text/x-python",
   "name": "python",
   "nbconvert_exporter": "python",
   "pygments_lexer": "ipython2",
   "version": "2.7.6"
  }
 },
 "nbformat": 4,
 "nbformat_minor": 5
}
