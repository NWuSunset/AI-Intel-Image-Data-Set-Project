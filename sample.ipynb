{
 "cells": [
  {
   "metadata": {},
   "cell_type": "markdown",
   "source": [
    "# This is a sample Jupyter Notebook\n",
    "\n",
    "Below is an example of a code cell. \n",
    "Put your cursor into the cell and press Shift+Enter to execute it and select the next one, or click 'Run Cell' button.\n",
    "\n",
    "Press Double Shift to search everywhere for classes, files, tool windows, actions, and settings.\n",
    "\n",
    "To learn more about Jupyter Notebooks in PyCharm, see [help](https://www.jetbrains.com/help/pycharm/ipython-notebook-support.html).\n",
    "For an overview of PyCharm, go to Help -> Learn IDE features or refer to [our documentation](https://www.jetbrains.com/help/pycharm/getting-started.html)."
   ],
   "id": "8a77807f92f26ee"
  },
  {
   "metadata": {
    "ExecuteTime": {
     "end_time": "2025-05-19T03:59:46.252305Z",
     "start_time": "2025-05-19T03:59:37.423681Z"
    }
   },
   "cell_type": "code",
   "source": [
    "import os, warnings\n",
    "import matplotlib.pyplot as plt\n",
    "from matplotlib import gridspec\n",
    "\n",
    "import numpy as np\n",
    "import tensorflow as tf\n",
    "from tensorflow.keras.preprocessing import image_dataset_from_directory"
   ],
   "id": "fbc121e30a2defb3",
   "outputs": [],
   "execution_count": 1
  },
  {
   "metadata": {
    "ExecuteTime": {
     "end_time": "2025-05-19T04:00:00.798128Z",
     "start_time": "2025-05-19T04:00:00.620927Z"
    }
   },
   "cell_type": "code",
   "source": [
    "import pathlib\n",
    "#setting up data.\n",
    "data_directory = pathlib.Path(\"Intel_Image_Classification\")\n",
    "\n",
    "# Verify the directory exists\n",
    "if not data_directory.exists():\n",
    "    raise Exception(\"Directory not found! Please check the path.\")\n",
    "\n",
    "train_directory =pathlib.Path(\"Intel_Image_Classification/seg_train/seg_train\")\n",
    "print(train_directory)\n",
    "\n",
    "test_directory =pathlib.Path(\"Intel_Image_Classification/seg_test/seg_test\")\n",
    "\n",
    "image_count = len(list(train_directory.glob('*/*.jpg')))\n",
    "print(image_count)\n",
    "\n"
   ],
   "id": "d4a552aed192ec7b",
   "outputs": [
    {
     "name": "stdout",
     "output_type": "stream",
     "text": [
      "Intel_Image_Classification\\seg_train\\seg_train\n",
      "14034\n"
     ]
    }
   ],
   "execution_count": 3
  },
  {
   "metadata": {
    "ExecuteTime": {
     "end_time": "2025-05-19T04:00:04.332906Z",
     "start_time": "2025-05-19T04:00:03.258309Z"
    }
   },
   "cell_type": "code",
   "source": [
    "#Creating the dataset\n",
    "\n",
    "batch_size = 32\n",
    "img_height = 150\n",
    "img_width = 150\n",
    "\n",
    "train_dataset = tf.keras.utils.image_dataset_from_directory(\n",
    "    train_directory,\n",
    "    image_size=(img_height, img_width),\n",
    "    batch_size=batch_size)\n",
    "\n",
    "test_dataset = tf.keras.utils.image_dataset_from_directory(\n",
    "    test_directory,\n",
    "    image_size=(img_height, img_width),\n",
    "    batch_size=batch_size)\n",
    "\n",
    "class_names = train_dataset.class_names\n",
    "print(class_names)"
   ],
   "id": "7d2ba94fe926cff3",
   "outputs": [
    {
     "name": "stdout",
     "output_type": "stream",
     "text": [
      "Found 14034 files belonging to 6 classes.\n",
      "Found 3000 files belonging to 6 classes.\n",
      "['buildings', 'forest', 'glacier', 'mountain', 'sea', 'street']\n"
     ]
    }
   ],
   "execution_count": 4
  }
 ],
 "metadata": {
  "kernelspec": {
   "display_name": "Python [conda env:base] *",
   "language": "python",
   "name": "conda-base-py"
  },
  "language_info": {
   "codemirror_mode": {
    "name": "ipython",
    "version": 2
   },
   "file_extension": ".py",
   "mimetype": "text/x-python",
   "name": "python",
   "nbconvert_exporter": "python",
   "pygments_lexer": "ipython2",
   "version": "2.7.6"
  }
 },
 "nbformat": 4,
 "nbformat_minor": 5
}
